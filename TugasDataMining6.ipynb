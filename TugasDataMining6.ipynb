{
  "nbformat": 4,
  "nbformat_minor": 0,
  "metadata": {
    "colab": {
      "name": "TugasDataMining6.ipynb",
      "provenance": [],
      "collapsed_sections": []
    },
    "kernelspec": {
      "name": "python3",
      "display_name": "Python 3"
    },
    "language_info": {
      "name": "python"
    }
  },
  "cells": [
    {
      "cell_type": "markdown",
      "metadata": {
        "id": "view-in-github"
      },
      "source": [
        "<a href=\"https://colab.research.google.com/github/Rosiyah/syifa-resolusi/blob/main/TugasDM6.ipynb\" target=\"_parent\"><img src=\"https://colab.research.google.com/assets/colab-badge.svg\" alt=\"Open In Colab\"/></a>"
      ]
    },
    {
      "cell_type": "markdown",
      "source": [
        "# Alfian Syam Sabila A11.2019.12210"
      ],
      "metadata": {
        "id": "sXNVka-6180v"
      }
    },
    {
      "cell_type": "code",
      "execution_count": null,
      "metadata": {
        "id": "mftYdViJM2qm"
      },
      "outputs": [],
      "source": [
        "import pandas as pd \n",
        "import matplotlib.pyplot as plt\n",
        "import numpy as np\n"
      ]
    },
    {
      "cell_type": "code",
      "source": [
        "dataset = pd.read_csv('diabetes.csv')"
      ],
      "metadata": {
        "id": "RmvM1n45SqDc"
      },
      "execution_count": null,
      "outputs": []
    },
    {
      "cell_type": "code",
      "source": [
        "dataset.head()"
      ],
      "metadata": {
        "id": "Mj67crVjYiJg",
        "colab": {
          "base_uri": "https://localhost:8080/",
          "height": 250
        },
        "outputId": "6781e42e-8a9f-4040-aee7-35522786a702"
      },
      "execution_count": null,
      "outputs": [
        {
          "output_type": "execute_result",
          "data": {
            "text/plain": [
              "   Pregnancies  Glucose  BloodPressure  SkinThickness  Insulin   BMI  \\\n",
              "0            6      148             72             35        0  33.6   \n",
              "1            1       85             66             29        0  26.6   \n",
              "2            8      183             64              0        0  23.3   \n",
              "3            1       89             66             23       94  28.1   \n",
              "4            0      137             40             35      168  43.1   \n",
              "\n",
              "   DiabetesPedigreeFunction  Age  Outcome  \n",
              "0                     0.627   50        1  \n",
              "1                     0.351   31        0  \n",
              "2                     0.672   32        1  \n",
              "3                     0.167   21        0  \n",
              "4                     2.288   33        1  "
            ],
            "text/html": [
              "\n",
              "  <div id=\"df-5b6293eb-c378-4857-b136-a93a85d47475\">\n",
              "    <div class=\"colab-df-container\">\n",
              "      <div>\n",
              "<style scoped>\n",
              "    .dataframe tbody tr th:only-of-type {\n",
              "        vertical-align: middle;\n",
              "    }\n",
              "\n",
              "    .dataframe tbody tr th {\n",
              "        vertical-align: top;\n",
              "    }\n",
              "\n",
              "    .dataframe thead th {\n",
              "        text-align: right;\n",
              "    }\n",
              "</style>\n",
              "<table border=\"1\" class=\"dataframe\">\n",
              "  <thead>\n",
              "    <tr style=\"text-align: right;\">\n",
              "      <th></th>\n",
              "      <th>Pregnancies</th>\n",
              "      <th>Glucose</th>\n",
              "      <th>BloodPressure</th>\n",
              "      <th>SkinThickness</th>\n",
              "      <th>Insulin</th>\n",
              "      <th>BMI</th>\n",
              "      <th>DiabetesPedigreeFunction</th>\n",
              "      <th>Age</th>\n",
              "      <th>Outcome</th>\n",
              "    </tr>\n",
              "  </thead>\n",
              "  <tbody>\n",
              "    <tr>\n",
              "      <th>0</th>\n",
              "      <td>6</td>\n",
              "      <td>148</td>\n",
              "      <td>72</td>\n",
              "      <td>35</td>\n",
              "      <td>0</td>\n",
              "      <td>33.6</td>\n",
              "      <td>0.627</td>\n",
              "      <td>50</td>\n",
              "      <td>1</td>\n",
              "    </tr>\n",
              "    <tr>\n",
              "      <th>1</th>\n",
              "      <td>1</td>\n",
              "      <td>85</td>\n",
              "      <td>66</td>\n",
              "      <td>29</td>\n",
              "      <td>0</td>\n",
              "      <td>26.6</td>\n",
              "      <td>0.351</td>\n",
              "      <td>31</td>\n",
              "      <td>0</td>\n",
              "    </tr>\n",
              "    <tr>\n",
              "      <th>2</th>\n",
              "      <td>8</td>\n",
              "      <td>183</td>\n",
              "      <td>64</td>\n",
              "      <td>0</td>\n",
              "      <td>0</td>\n",
              "      <td>23.3</td>\n",
              "      <td>0.672</td>\n",
              "      <td>32</td>\n",
              "      <td>1</td>\n",
              "    </tr>\n",
              "    <tr>\n",
              "      <th>3</th>\n",
              "      <td>1</td>\n",
              "      <td>89</td>\n",
              "      <td>66</td>\n",
              "      <td>23</td>\n",
              "      <td>94</td>\n",
              "      <td>28.1</td>\n",
              "      <td>0.167</td>\n",
              "      <td>21</td>\n",
              "      <td>0</td>\n",
              "    </tr>\n",
              "    <tr>\n",
              "      <th>4</th>\n",
              "      <td>0</td>\n",
              "      <td>137</td>\n",
              "      <td>40</td>\n",
              "      <td>35</td>\n",
              "      <td>168</td>\n",
              "      <td>43.1</td>\n",
              "      <td>2.288</td>\n",
              "      <td>33</td>\n",
              "      <td>1</td>\n",
              "    </tr>\n",
              "  </tbody>\n",
              "</table>\n",
              "</div>\n",
              "      <button class=\"colab-df-convert\" onclick=\"convertToInteractive('df-5b6293eb-c378-4857-b136-a93a85d47475')\"\n",
              "              title=\"Convert this dataframe to an interactive table.\"\n",
              "              style=\"display:none;\">\n",
              "        \n",
              "  <svg xmlns=\"http://www.w3.org/2000/svg\" height=\"24px\"viewBox=\"0 0 24 24\"\n",
              "       width=\"24px\">\n",
              "    <path d=\"M0 0h24v24H0V0z\" fill=\"none\"/>\n",
              "    <path d=\"M18.56 5.44l.94 2.06.94-2.06 2.06-.94-2.06-.94-.94-2.06-.94 2.06-2.06.94zm-11 1L8.5 8.5l.94-2.06 2.06-.94-2.06-.94L8.5 2.5l-.94 2.06-2.06.94zm10 10l.94 2.06.94-2.06 2.06-.94-2.06-.94-.94-2.06-.94 2.06-2.06.94z\"/><path d=\"M17.41 7.96l-1.37-1.37c-.4-.4-.92-.59-1.43-.59-.52 0-1.04.2-1.43.59L10.3 9.45l-7.72 7.72c-.78.78-.78 2.05 0 2.83L4 21.41c.39.39.9.59 1.41.59.51 0 1.02-.2 1.41-.59l7.78-7.78 2.81-2.81c.8-.78.8-2.07 0-2.86zM5.41 20L4 18.59l7.72-7.72 1.47 1.35L5.41 20z\"/>\n",
              "  </svg>\n",
              "      </button>\n",
              "      \n",
              "  <style>\n",
              "    .colab-df-container {\n",
              "      display:flex;\n",
              "      flex-wrap:wrap;\n",
              "      gap: 12px;\n",
              "    }\n",
              "\n",
              "    .colab-df-convert {\n",
              "      background-color: #E8F0FE;\n",
              "      border: none;\n",
              "      border-radius: 50%;\n",
              "      cursor: pointer;\n",
              "      display: none;\n",
              "      fill: #1967D2;\n",
              "      height: 32px;\n",
              "      padding: 0 0 0 0;\n",
              "      width: 32px;\n",
              "    }\n",
              "\n",
              "    .colab-df-convert:hover {\n",
              "      background-color: #E2EBFA;\n",
              "      box-shadow: 0px 1px 2px rgba(60, 64, 67, 0.3), 0px 1px 3px 1px rgba(60, 64, 67, 0.15);\n",
              "      fill: #174EA6;\n",
              "    }\n",
              "\n",
              "    [theme=dark] .colab-df-convert {\n",
              "      background-color: #3B4455;\n",
              "      fill: #D2E3FC;\n",
              "    }\n",
              "\n",
              "    [theme=dark] .colab-df-convert:hover {\n",
              "      background-color: #434B5C;\n",
              "      box-shadow: 0px 1px 3px 1px rgba(0, 0, 0, 0.15);\n",
              "      filter: drop-shadow(0px 1px 2px rgba(0, 0, 0, 0.3));\n",
              "      fill: #FFFFFF;\n",
              "    }\n",
              "  </style>\n",
              "\n",
              "      <script>\n",
              "        const buttonEl =\n",
              "          document.querySelector('#df-5b6293eb-c378-4857-b136-a93a85d47475 button.colab-df-convert');\n",
              "        buttonEl.style.display =\n",
              "          google.colab.kernel.accessAllowed ? 'block' : 'none';\n",
              "\n",
              "        async function convertToInteractive(key) {\n",
              "          const element = document.querySelector('#df-5b6293eb-c378-4857-b136-a93a85d47475');\n",
              "          const dataTable =\n",
              "            await google.colab.kernel.invokeFunction('convertToInteractive',\n",
              "                                                     [key], {});\n",
              "          if (!dataTable) return;\n",
              "\n",
              "          const docLinkHtml = 'Like what you see? Visit the ' +\n",
              "            '<a target=\"_blank\" href=https://colab.research.google.com/notebooks/data_table.ipynb>data table notebook</a>'\n",
              "            + ' to learn more about interactive tables.';\n",
              "          element.innerHTML = '';\n",
              "          dataTable['output_type'] = 'display_data';\n",
              "          await google.colab.output.renderOutput(dataTable, element);\n",
              "          const docLink = document.createElement('div');\n",
              "          docLink.innerHTML = docLinkHtml;\n",
              "          element.appendChild(docLink);\n",
              "        }\n",
              "      </script>\n",
              "    </div>\n",
              "  </div>\n",
              "  "
            ]
          },
          "metadata": {},
          "execution_count": 359
        }
      ]
    },
    {
      "cell_type": "code",
      "source": [
        "x = dataset.iloc[:, [3, 6]].values\n",
        "y = dataset.iloc[:, -1].values  "
      ],
      "metadata": {
        "id": "l7JuEz-yS-MH"
      },
      "execution_count": null,
      "outputs": []
    },
    {
      "cell_type": "code",
      "source": [
        "print(x)"
      ],
      "metadata": {
        "id": "paKEGVvfTEP-",
        "colab": {
          "base_uri": "https://localhost:8080/"
        },
        "outputId": "91a100e3-8154-476b-94ce-c4ddc11e0cb0"
      },
      "execution_count": null,
      "outputs": [
        {
          "output_type": "stream",
          "name": "stdout",
          "text": [
            "[[35.     0.627]\n",
            " [29.     0.351]\n",
            " [ 0.     0.672]\n",
            " ...\n",
            " [23.     0.245]\n",
            " [ 0.     0.349]\n",
            " [31.     0.315]]\n"
          ]
        }
      ]
    },
    {
      "cell_type": "code",
      "source": [
        "print(y)"
      ],
      "metadata": {
        "id": "arnm1G60TImN",
        "colab": {
          "base_uri": "https://localhost:8080/"
        },
        "outputId": "8d049c9f-5697-42d1-f26e-d238174d73d1"
      },
      "execution_count": null,
      "outputs": [
        {
          "output_type": "stream",
          "name": "stdout",
          "text": [
            "[1 0 1 0 1 0 1 0 1 1 0 1 0 1 1 1 1 1 0 1 0 0 1 1 1 1 1 0 0 0 0 1 0 0 0 0 0\n",
            " 1 1 1 0 0 0 1 0 1 0 0 1 0 0 0 0 1 0 0 1 0 0 0 0 1 0 0 1 0 1 0 0 0 1 0 1 0\n",
            " 0 0 0 0 1 0 0 0 0 0 1 0 0 0 1 0 0 0 0 1 0 0 0 0 0 1 1 0 0 0 0 0 0 0 0 1 1\n",
            " 1 0 0 1 1 1 0 0 0 1 0 0 0 1 1 0 0 1 1 1 1 1 0 0 0 0 0 0 0 0 0 0 1 0 0 0 0\n",
            " 0 0 0 0 1 0 1 1 0 0 0 1 0 0 0 0 1 1 0 0 0 0 1 1 0 0 0 1 0 1 0 1 0 0 0 0 0\n",
            " 1 1 1 1 1 0 0 1 1 0 1 0 1 1 1 0 0 0 0 0 0 1 1 0 1 0 0 0 1 1 1 1 0 1 1 1 1\n",
            " 0 0 0 0 0 1 0 0 1 1 0 0 0 1 1 1 1 0 0 0 1 1 0 1 0 0 0 0 0 0 0 0 1 1 0 0 0\n",
            " 1 0 1 0 0 1 0 1 0 0 1 1 0 0 0 0 0 1 0 0 0 1 0 0 1 1 0 0 1 0 0 0 1 1 1 0 0\n",
            " 1 0 1 0 1 1 0 1 0 0 1 0 1 1 0 0 1 0 1 0 0 1 0 1 0 1 1 1 0 0 1 0 1 0 0 0 1\n",
            " 0 0 0 0 1 1 1 0 0 0 0 0 0 0 0 0 1 0 0 0 0 0 1 1 1 0 1 1 0 0 1 0 0 1 0 0 1\n",
            " 1 0 0 0 0 1 0 0 1 0 0 0 0 0 0 0 1 1 1 0 0 1 0 0 1 0 0 1 0 1 1 0 1 0 1 0 1\n",
            " 0 1 1 0 0 0 0 1 1 0 1 0 1 0 0 0 0 1 1 0 1 0 1 0 0 0 0 0 1 0 0 0 0 1 0 0 1\n",
            " 1 1 0 0 1 0 0 1 0 0 0 1 0 0 1 0 0 0 0 0 0 0 0 0 1 0 0 0 0 0 0 0 1 0 0 0 1\n",
            " 0 0 0 1 1 0 0 0 0 0 0 0 1 0 0 0 0 1 0 0 0 1 0 0 0 1 0 0 0 1 0 0 0 0 1 1 0\n",
            " 0 0 0 0 0 1 0 0 0 0 0 0 0 0 0 0 0 1 0 0 0 1 1 1 1 0 0 1 1 0 0 0 0 0 0 0 0\n",
            " 0 0 0 0 0 1 1 0 0 0 0 0 0 0 1 0 0 0 0 0 0 0 1 0 1 1 0 0 0 1 0 1 0 1 0 1 0\n",
            " 1 0 0 1 0 0 1 0 0 0 0 1 1 0 1 0 0 0 0 1 1 0 1 0 0 0 1 1 0 0 0 0 0 0 0 0 0\n",
            " 0 1 0 0 0 0 1 0 0 1 0 0 0 1 0 0 0 1 1 1 0 0 0 0 0 0 1 0 0 0 1 0 1 1 1 1 0\n",
            " 1 1 0 0 0 0 0 0 0 1 1 0 1 0 0 1 0 1 0 0 0 0 0 1 0 1 0 1 0 1 1 0 0 0 0 1 1\n",
            " 0 0 0 1 0 1 1 0 0 1 0 0 1 1 0 0 1 0 0 1 0 0 0 0 0 0 0 1 1 1 0 0 0 0 0 0 1\n",
            " 1 0 0 1 0 0 1 0 1 1 1 0 0 1 1 1 0 1 0 1 0 1 0 0 0 0 1 0]\n"
          ]
        }
      ]
    },
    {
      "cell_type": "code",
      "source": [
        "from sklearn.model_selection import train_test_split\n",
        "x_train, x_test, y_train, y_test = train_test_split(x, y, test_size = 0.25, random_state = 0)"
      ],
      "metadata": {
        "id": "G-JNby5vTMCk"
      },
      "execution_count": null,
      "outputs": []
    },
    {
      "cell_type": "code",
      "source": [
        "print(x_train)"
      ],
      "metadata": {
        "id": "VjvoxbYyTQf8",
        "colab": {
          "base_uri": "https://localhost:8080/"
        },
        "outputId": "af8aeef9-a24d-4e84-802c-7412b1d29517"
      },
      "execution_count": null,
      "outputs": [
        {
          "output_type": "stream",
          "name": "stdout",
          "text": [
            "[[ 0.     0.142]\n",
            " [36.     0.261]\n",
            " [ 0.     0.601]\n",
            " ...\n",
            " [22.     0.148]\n",
            " [ 0.     0.3  ]\n",
            " [ 0.     0.64 ]]\n"
          ]
        }
      ]
    },
    {
      "cell_type": "code",
      "source": [
        "len(x)"
      ],
      "metadata": {
        "id": "j0uhQ9stTWYX",
        "colab": {
          "base_uri": "https://localhost:8080/"
        },
        "outputId": "d1f8f18c-cba3-4a26-d9ab-9d9ec4916371"
      },
      "execution_count": null,
      "outputs": [
        {
          "output_type": "execute_result",
          "data": {
            "text/plain": [
              "768"
            ]
          },
          "metadata": {},
          "execution_count": 365
        }
      ]
    },
    {
      "cell_type": "code",
      "source": [
        "len(x_train)"
      ],
      "metadata": {
        "id": "5q3cJZJeTZ7J",
        "colab": {
          "base_uri": "https://localhost:8080/"
        },
        "outputId": "8c3e59ca-bb3f-4a17-d4f4-8affd5b6e348"
      },
      "execution_count": null,
      "outputs": [
        {
          "output_type": "execute_result",
          "data": {
            "text/plain": [
              "576"
            ]
          },
          "metadata": {},
          "execution_count": 366
        }
      ]
    },
    {
      "cell_type": "code",
      "source": [
        "len(x)"
      ],
      "metadata": {
        "id": "PXp3yN9IaGF1",
        "colab": {
          "base_uri": "https://localhost:8080/"
        },
        "outputId": "a1d09ce7-867a-449f-90be-5c37c2963296"
      },
      "execution_count": null,
      "outputs": [
        {
          "output_type": "execute_result",
          "data": {
            "text/plain": [
              "768"
            ]
          },
          "metadata": {},
          "execution_count": 367
        }
      ]
    },
    {
      "cell_type": "code",
      "source": [
        "len(x_test)"
      ],
      "metadata": {
        "id": "wYxByFfRTc4J",
        "colab": {
          "base_uri": "https://localhost:8080/"
        },
        "outputId": "06ba14a4-9a2a-41f0-ee0c-cc26f95e7e4a"
      },
      "execution_count": null,
      "outputs": [
        {
          "output_type": "execute_result",
          "data": {
            "text/plain": [
              "192"
            ]
          },
          "metadata": {},
          "execution_count": 368
        }
      ]
    },
    {
      "cell_type": "code",
      "source": [
        "len(y)"
      ],
      "metadata": {
        "id": "Sa4b4OdDThkr",
        "colab": {
          "base_uri": "https://localhost:8080/"
        },
        "outputId": "be5e4771-e754-4e16-d4a2-0ee15036920c"
      },
      "execution_count": null,
      "outputs": [
        {
          "output_type": "execute_result",
          "data": {
            "text/plain": [
              "768"
            ]
          },
          "metadata": {},
          "execution_count": 369
        }
      ]
    },
    {
      "cell_type": "code",
      "source": [
        "len(y_test)"
      ],
      "metadata": {
        "id": "4Mv4e8fLTkrQ",
        "colab": {
          "base_uri": "https://localhost:8080/"
        },
        "outputId": "e7e9123b-6007-4353-9243-0f7a061499ff"
      },
      "execution_count": null,
      "outputs": [
        {
          "output_type": "execute_result",
          "data": {
            "text/plain": [
              "192"
            ]
          },
          "metadata": {},
          "execution_count": 370
        }
      ]
    },
    {
      "cell_type": "code",
      "source": [
        "len(y_train)"
      ],
      "metadata": {
        "id": "JXrCbTdHTpRV",
        "colab": {
          "base_uri": "https://localhost:8080/"
        },
        "outputId": "0a1d1bd7-baaf-452b-f95d-cdfea5b1dd67"
      },
      "execution_count": null,
      "outputs": [
        {
          "output_type": "execute_result",
          "data": {
            "text/plain": [
              "576"
            ]
          },
          "metadata": {},
          "execution_count": 371
        }
      ]
    },
    {
      "cell_type": "code",
      "source": [
        "from sklearn.preprocessing import StandardScaler\n",
        "sc = StandardScaler()\n",
        "x_train = sc.fit_transform(x_train)\n",
        "x_test = sc.transform(x_test)"
      ],
      "metadata": {
        "id": "Ny_xzSi2TvGc"
      },
      "execution_count": null,
      "outputs": []
    },
    {
      "cell_type": "code",
      "source": [
        "print(x_train)"
      ],
      "metadata": {
        "id": "PA3EVux6Tw9V",
        "colab": {
          "base_uri": "https://localhost:8080/"
        },
        "outputId": "504e8e03-3a9d-43b4-e54b-e4daddeaad71"
      },
      "execution_count": null,
      "outputs": [
        {
          "output_type": "stream",
          "name": "stdout",
          "text": [
            "[[-1.31921491 -0.98325882]\n",
            " [ 0.9287299  -0.62493647]\n",
            " [-1.31921491  0.39884168]\n",
            " ...\n",
            " [ 0.05452914 -0.96519215]\n",
            " [-1.31921491 -0.5075031 ]\n",
            " [-1.31921491  0.51627505]]\n"
          ]
        }
      ]
    },
    {
      "cell_type": "code",
      "source": [
        "print(x_test)"
      ],
      "metadata": {
        "id": "0zYUcD7xT2ge",
        "colab": {
          "base_uri": "https://localhost:8080/"
        },
        "outputId": "ed8b351a-9047-4148-bf96-64aed0c9cca6"
      },
      "execution_count": null,
      "outputs": [
        {
          "output_type": "stream",
          "name": "stdout",
          "text": [
            "[[ 1.36583027  2.78665365]\n",
            " [ 0.55407243 -0.19434743]\n",
            " [-1.31921491 -0.23349189]\n",
            " [-0.13279959  0.3566861 ]\n",
            " [-1.31921491  0.5764973 ]\n",
            " [-0.19524251 -0.558692  ]\n",
            " [ 0.80384407  1.27808644]\n",
            " [ 0.3667437   2.06398672]\n",
            " [ 0.17941496  3.40694276]\n",
            " [ 0.67895825 -0.4352364 ]\n",
            " [ 0.9287299   1.15161972]\n",
            " [ 0.3667437   1.70265326]\n",
            " [-1.31921491  0.82943072]\n",
            " [ 0.05452914  3.70504287]\n",
            " [ 0.11697205  0.39583056]\n",
            " [-0.07035668  0.95890854]\n",
            " [ 1.30338736  0.75415291]\n",
            " [-0.69478579 -0.66408093]\n",
            " [ 0.61651534 -0.14918074]\n",
            " [ 0.42918661  0.09170823]\n",
            " [ 0.67895825  0.2573194 ]\n",
            " [-1.31921491  0.675864  ]\n",
            " [ 0.11697205  0.91675297]\n",
            " [ 0.42918661 -0.67913649]\n",
            " [-0.38257124  0.05557489]\n",
            " [ 0.67895825  0.13687491]\n",
            " [-1.31921491  0.34163054]\n",
            " [ 0.99117281  2.12420896]\n",
            " [ 0.05452914 -0.48642531]\n",
            " [-1.31921491 -0.53159199]\n",
            " [ 0.30430078  0.53735284]\n",
            " [ 1.55315901  0.08267489]\n",
            " [-0.25768542  0.68188622]\n",
            " [ 1.36583027  1.0462308 ]\n",
            " [-0.50745706 -0.79355875]\n",
            " [-1.31921491 -1.00433661]\n",
            " [ 0.86628699 -0.62794758]\n",
            " [-0.13279959 -0.46835864]\n",
            " [ 1.61560192 -0.56772534]\n",
            " [ 0.24185787 -0.59482535]\n",
            " [-0.19524251  0.77221959]\n",
            " [-1.31921491  0.27237496]\n",
            " [-0.13279959  0.08568601]\n",
            " [ 0.61651534 -0.68515872]\n",
            " [ 1.4907161  -0.93508103]\n",
            " [ 0.11697205  0.31151942]\n",
            " [ 0.67895825 -1.02541439]\n",
            " [ 0.49162952 -0.75140318]\n",
            " [ 1.42827319  1.31421978]\n",
            " [-1.31921491  0.20311938]\n",
            " [-1.31921491 -0.67311427]\n",
            " [ 0.30430078 -0.45330308]\n",
            " [ 1.17850154  0.8234085 ]\n",
            " [ 1.24094445 -0.23349189]\n",
            " [ 0.67895825 -0.26360301]\n",
            " [-0.07035668 -0.98928105]\n",
            " [ 0.49162952 -0.35393637]\n",
            " [-1.31921491 -0.78151431]\n",
            " [-1.31921491  0.22118606]\n",
            " [-1.31921491 -0.62493647]\n",
            " [ 1.55315901 -0.91400324]\n",
            " [ 0.24185787 -0.25155856]\n",
            " [-1.31921491 -0.79054764]\n",
            " [-1.31921491  1.39853092]\n",
            " [-1.31921491 -0.37200305]\n",
            " [-1.31921491  2.17539787]\n",
            " [-1.31921491 -0.50148087]\n",
            " [-1.31921491 -0.64601426]\n",
            " [-1.31921491 -0.26661412]\n",
            " [ 0.24185787 -0.56772534]\n",
            " [-1.31921491 -0.93508103]\n",
            " [-1.31921491 -0.78151431]\n",
            " [ 0.67895825 -0.69419205]\n",
            " [-1.31921491  2.98839816]\n",
            " [-1.31921491  0.03148599]\n",
            " [-1.31921491 -0.65203648]\n",
            " [ 0.11697205 -0.55266978]\n",
            " [ 0.67895825  1.11548638]\n",
            " [-0.13279959 -0.45631419]\n",
            " [ 1.17850154 -0.7544143 ]\n",
            " [-1.31921491 -0.83872544]\n",
            " [ 1.80293065 -0.20940299]\n",
            " [ 0.49162952  0.69091956]\n",
            " [-0.13279959 -0.51051421]\n",
            " [ 0.67895825 -0.55568089]\n",
            " [-1.31921491 -0.69720316]\n",
            " [-1.31921491 -0.20036965]\n",
            " [ 1.05361572 -0.85980322]\n",
            " [-0.00791377  0.35367499]\n",
            " [ 0.3667437  -0.36598082]\n",
            " [ 0.9287299  -1.10972554]\n",
            " [-1.31921491 -0.55568089]\n",
            " [-0.69478579  0.47411948]\n",
            " [-0.63234288  0.06761933]\n",
            " [ 1.36583027 -0.3840475 ]\n",
            " [ 0.61651534 -0.11605851]\n",
            " [ 0.67895825  1.21184197]\n",
            " [ 1.11605863 -0.59783646]\n",
            " [ 1.61560192  2.7746092 ]\n",
            " [-1.31921491 -0.27865857]\n",
            " [ 0.80384407 -0.90798102]\n",
            " [-0.38257124  0.50724171]\n",
            " [-1.31921491 -0.83571433]\n",
            " [-0.50745706 -0.40512528]\n",
            " [ 1.30338736  1.90439777]\n",
            " [-1.31921491  1.46477539]\n",
            " [ 0.3667437   0.13988603]\n",
            " [ 1.05361572 -0.89894768]\n",
            " [-0.63234288 -0.55568089]\n",
            " [-1.31921491  0.61263064]\n",
            " [ 0.30430078  0.89567519]\n",
            " [ 0.67895825 -0.62794758]\n",
            " [-1.31921491 -1.02240328]\n",
            " [ 1.24094445  2.56684246]\n",
            " [ 0.74140116 -0.63396981]\n",
            " [-1.31921491 -0.91400324]\n",
            " [-0.69478579  1.24195309]\n",
            " [-0.32012833  0.56144173]\n",
            " [-0.13279959 -0.98024771]\n",
            " [ 0.99117281  0.95288632]\n",
            " [ 1.17850154 -0.70021428]\n",
            " [ 0.99117281 -0.49244753]\n",
            " [ 1.11605863 -0.95916993]\n",
            " [-0.25768542 -0.6309587 ]\n",
            " [ 0.05452914 -0.63999203]\n",
            " [-1.31921491 -0.83571433]\n",
            " [-0.63234288  0.38980834]\n",
            " [ 0.49162952  0.5764973 ]\n",
            " [-1.31921491  0.65779732]\n",
            " [-1.31921491 -0.42921418]\n",
            " [ 0.86628699 -0.17326964]\n",
            " [-1.31921491 -0.49244753]\n",
            " [ 0.05452914 -0.53761422]\n",
            " [ 1.74048774  0.70296401]\n",
            " [ 0.24185787  0.81136405]\n",
            " [ 0.99117281  0.59155286]\n",
            " [-0.13279959 -0.86582545]\n",
            " [ 0.67895825 -0.37501416]\n",
            " [-1.31921491  0.88061963]\n",
            " [-1.31921491 -0.04078071]\n",
            " [-0.32012833 -0.91099213]\n",
            " [ 0.49162952 -0.39308083]\n",
            " [-1.31921491 -0.84775877]\n",
            " [-1.31921491 -0.23349189]\n",
            " [-1.31921491 -0.63396981]\n",
            " [-0.69478579  0.24828607]\n",
            " [-0.00791377 -0.38103638]\n",
            " [ 0.55407243 -0.46835864]\n",
            " [-0.00791377  1.8863311 ]\n",
            " [ 1.4907161   0.73006402]\n",
            " [ 0.05452914 -0.48943642]\n",
            " [-1.31921491  0.53133061]\n",
            " [-0.38257124 -1.08864775]\n",
            " [ 0.55407243  1.06128636]\n",
            " [ 0.49162952  0.67285289]\n",
            " [ 0.11697205 -0.07691405]\n",
            " [ 0.74140116 -0.12509185]\n",
            " [-0.00791377  1.09741971]\n",
            " [-1.31921491 -0.85980322]\n",
            " [-1.31921491  0.32958609]\n",
            " [ 0.11697205 -0.42921418]\n",
            " [-1.31921491 -1.02240328]\n",
            " [-0.19524251 -0.43824752]\n",
            " [-0.19524251  0.74813069]\n",
            " [-1.31921491 -0.80861432]\n",
            " [-1.31921491 -0.98626994]\n",
            " [-1.31921491 -0.86883656]\n",
            " [-1.31921491 -0.37802527]\n",
            " [-1.31921491 -0.95615881]\n",
            " [-1.31921491 -0.81764765]\n",
            " [-0.13279959  0.27237496]\n",
            " [ 1.17850154  0.71199734]\n",
            " [-1.31921491 -0.64601426]\n",
            " [-1.31921491 -0.52858088]\n",
            " [-0.38257124 -0.80861432]\n",
            " [ 0.67895825 -0.06788072]\n",
            " [-1.31921491  0.04955266]\n",
            " [ 1.24094445 -0.94110325]\n",
            " [-0.07035668 -1.05552552]\n",
            " [ 0.17941496 -0.83270321]\n",
            " [-1.31921491 -0.86883656]\n",
            " [-1.31921491 -0.63698092]\n",
            " [ 0.42918661  0.48315282]\n",
            " [ 1.11605863  4.28919863]\n",
            " [-1.31921491  2.14829786]\n",
            " [-1.31921491  0.3566861 ]\n",
            " [-1.31921491 -0.59783646]\n",
            " [-1.31921491 -0.30274747]\n",
            " [ 0.74140116 -0.14014741]\n",
            " [-0.81967162  1.4406865 ]\n",
            " [-1.31921491 -0.60385869]\n",
            " [ 0.55407243 -0.63396981]]\n"
          ]
        }
      ]
    },
    {
      "cell_type": "code",
      "source": [
        "from sklearn.neighbors import KNeighborsClassifier\n",
        "classifier = KNeighborsClassifier(n_neighbors = 5, metric = 'minkowski', p=2)\n",
        "classifier.fit(x_train, y_train)"
      ],
      "metadata": {
        "id": "3jIocWnFT7ms",
        "colab": {
          "base_uri": "https://localhost:8080/"
        },
        "outputId": "c25f7123-66f8-4e12-b023-fb6ca76a5384"
      },
      "execution_count": null,
      "outputs": [
        {
          "output_type": "execute_result",
          "data": {
            "text/plain": [
              "KNeighborsClassifier()"
            ]
          },
          "metadata": {},
          "execution_count": 375
        }
      ]
    },
    {
      "cell_type": "code",
      "source": [
        "y_pred = classifier.predict(x_test)"
      ],
      "metadata": {
        "id": "DYiNjEHXT_yB"
      },
      "execution_count": null,
      "outputs": []
    },
    {
      "cell_type": "code",
      "source": [
        "from sklearn.metrics import confusion_matrix\n",
        "cm = confusion_matrix(y_test, y_pred)\n",
        "print(cm)"
      ],
      "metadata": {
        "id": "C4evoRCMUFle",
        "colab": {
          "base_uri": "https://localhost:8080/"
        },
        "outputId": "b83b6663-9bec-4567-859b-a0a842f9760a"
      },
      "execution_count": null,
      "outputs": [
        {
          "output_type": "stream",
          "name": "stdout",
          "text": [
            "[[111  19]\n",
            " [ 42  20]]\n"
          ]
        }
      ]
    },
    {
      "cell_type": "code",
      "source": [
        "from matplotlib.colors import ListedColormap\n",
        "x_set, y_set = x_train, y_train\n",
        "x1, x2 = np.meshgrid(np.arange(start=x_set[:, 0].min()-1, stop=x_set[:, 0].max()+1, step=0.01),\n",
        "                     np.arange(start=x_set[:, 1].min()-1, stop=x_set[:, 1].max()+1, step=0.01))\n",
        "plt.contourf(x1, x2, classifier.predict(np.array([x1.ravel(), x2.ravel()]).T).reshape(x1.shape), \n",
        "             alpha = 0.45, cmap = ListedColormap(('red', 'green')))\n",
        "plt.xlim(x1.min(), x1.max())\n",
        "plt.ylim(x2.min(), x2.max())\n",
        "for i, j in enumerate (np.unique(y_set)):\n",
        "  plt.scatter(x_set[y_set == j, 0], x_set[y_set == j, 1],\n",
        "              c = ListedColormap(('red', 'green'))(i), label = j)\n",
        "plt.title('Klasifikasi Data dengan K-NN (Data Training)')\n",
        "plt.xlabel('BloodPressure\t')\n",
        "plt.ylabel('age')\n",
        "plt.legend()\n",
        "plt.show()"
      ],
      "metadata": {
        "id": "QvZWk0PgUHOp",
        "colab": {
          "base_uri": "https://localhost:8080/",
          "height": 419
        },
        "outputId": "85214eb3-7716-4c13-e7ad-e688dab7818a"
      },
      "execution_count": null,
      "outputs": [
        {
          "output_type": "stream",
          "name": "stderr",
          "text": [
            "*c* argument looks like a single numeric RGB or RGBA sequence, which should be avoided as value-mapping will have precedence in case its length matches with *x* & *y*.  Please use the *color* keyword-argument or provide a 2-D array with a single row if you intend to specify the same RGB or RGBA value for all points.\n",
            "*c* argument looks like a single numeric RGB or RGBA sequence, which should be avoided as value-mapping will have precedence in case its length matches with *x* & *y*.  Please use the *color* keyword-argument or provide a 2-D array with a single row if you intend to specify the same RGB or RGBA value for all points.\n",
            "/usr/local/lib/python3.7/dist-packages/matplotlib/backends/backend_agg.py:214: RuntimeWarning: Glyph 9 missing from current font.\n",
            "  font.set_text(s, 0.0, flags=flags)\n",
            "/usr/local/lib/python3.7/dist-packages/matplotlib/backends/backend_agg.py:183: RuntimeWarning: Glyph 9 missing from current font.\n",
            "  font.set_text(s, 0, flags=flags)\n"
          ]
        },
        {
          "output_type": "display_data",
          "data": {
            "text/plain": [
              "<Figure size 432x288 with 1 Axes>"
            ],
            "image/png": "[encoded data removed]"
          },
          "metadata": {
            "needs_background": "light"
          }
        }
      ]
    },
    {
      "cell_type": "code",
      "source": [
        "from matplotlib.colors import ListedColormap\n",
        "x_set, y_set = x_test, y_test\n",
        "x1, x2 = np.meshgrid(np.arange(start=x_set[:, 0].min()-1, stop=x_set[:, 0].max()+1, step=0.01),\n",
        "                     np.arange(start=x_set[:, 1].min()-1, stop=x_set[:, 1].max()+1, step=0.01))\n",
        "plt.contourf(x1, x2, classifier.predict(np.array([x1.ravel(), x2.ravel()]).T).reshape(x1.shape), \n",
        "             alpha = 0.45, cmap = ListedColormap(('red', 'green')))\n",
        "plt.xlim(x1.min(), x1.max())\n",
        "plt.ylim(x2.min(), x2.max())\n",
        "for i, j in enumerate (np.unique(y_set)):\n",
        "  plt.scatter(x_set[y_set == j, 0], x_set[y_set == j, 1],\n",
        "              c = ListedColormap(('red', 'green'))(i), label = j)\n",
        "plt.title('Klasifikasi Data dengan K-NN (Data Testing)')\n",
        "plt.xlabel('BloodPressure\t ')\n",
        "plt.ylabel('age')\n",
        "plt.legend()\n",
        "plt.show()"
      ],
      "metadata": {
        "colab": {
          "base_uri": "https://localhost:8080/",
          "height": 419
        },
        "id": "ENf0ODbmaf1l",
        "outputId": "ad5351ff-65dc-4cc7-c9a1-94e0a2765ea2"
      },
      "execution_count": null,
      "outputs": [
        {
          "output_type": "stream",
          "name": "stderr",
          "text": [
            "*c* argument looks like a single numeric RGB or RGBA sequence, which should be avoided as value-mapping will have precedence in case its length matches with *x* & *y*.  Please use the *color* keyword-argument or provide a 2-D array with a single row if you intend to specify the same RGB or RGBA value for all points.\n",
            "*c* argument looks like a single numeric RGB or RGBA sequence, which should be avoided as value-mapping will have precedence in case its length matches with *x* & *y*.  Please use the *color* keyword-argument or provide a 2-D array with a single row if you intend to specify the same RGB or RGBA value for all points.\n",
            "/usr/local/lib/python3.7/dist-packages/matplotlib/backends/backend_agg.py:214: RuntimeWarning: Glyph 9 missing from current font.\n",
            "  font.set_text(s, 0.0, flags=flags)\n",
            "/usr/local/lib/python3.7/dist-packages/matplotlib/backends/backend_agg.py:183: RuntimeWarning: Glyph 9 missing from current font.\n",
            "  font.set_text(s, 0, flags=flags)\n"
          ]
        },
        {
          "output_type": "display_data",
          "data": {
            "text/plain": [
              "<Figure size 432x288 with 1 Axes>"
            ],
            "image/png": "[encoded data removed]"
          },
          "metadata": {
            "needs_background": "light"
          }
        }
      ]
    }
  ]
}