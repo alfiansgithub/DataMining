{
  "nbformat": 4,
  "nbformat_minor": 0,
  "metadata": {
    "colab": {
      "name": "Preprocessing_A11.2019.12210.ipynb",
      "provenance": [],
      "collapsed_sections": []
    },
    "kernelspec": {
      "name": "python3",
      "display_name": "Python 3"
    },
    "language_info": {
      "name": "python"
    }
  },
  "cells": [
    {
      "cell_type": "markdown",
      "source": [
        "### Alfian Syam Sabila_A11.2019.12210\n"
      ],
      "metadata": {
        "id": "Bv8XTRhA1ULr"
      }
    },
    {
      "cell_type": "code",
      "execution_count": null,
      "metadata": {
        "id": "BGdYMTezx4Y7"
      },
      "outputs": [],
      "source": [
        "import numpy as np\n",
        "import matplotlib.pyplot as plt\n",
        "import pandas as pd"
      ]
    },
    {
      "cell_type": "code",
      "source": [
        "dataset = pd.read_csv('kelulusan.csv')\n",
        "x = dataset.iloc[:, :-1].values\n",
        "y = dataset.iloc[:, -1].values"
      ],
      "metadata": {
        "id": "Zp3LEFCIyWKI"
      },
      "execution_count": null,
      "outputs": []
    },
    {
      "cell_type": "code",
      "source": [
        "print(x)"
      ],
      "metadata": {
        "colab": {
          "base_uri": "https://localhost:8080/"
        },
        "id": "ADBj0FxAya3H",
        "outputId": "160e94b0-9b9b-44c4-f5b9-abec41514f9f"
      },
      "execution_count": null,
      "outputs": [
        {
          "output_type": "stream",
          "name": "stdout",
          "text": [
            "[['Informatika' 20.0 3.7]\n",
            " ['Matematika' 18.0 2.6]\n",
            " ['Fisika' 20.0 nan]\n",
            " ['Informatika' 19.0 3.1]\n",
            " ['Informatika' 23.0 3.5]\n",
            " ['Fisika' nan 3.2]\n",
            " ['Matematika' 24.0 3.3]\n",
            " ['Matematika' 19.0 2.8]\n",
            " ['Informatika' 20.0 3.5]\n",
            " ['Fisika' 21.0 3.2]]\n"
          ]
        }
      ]
    },
    {
      "cell_type": "code",
      "source": [
        "from sklearn.model_selection import train_test_split\n",
        "x_train, x_test, y_train, y_test = train_test_split(x,y,test_size=0.2,random_state=0)"
      ],
      "metadata": {
        "id": "oP07ZpGLyenQ"
      },
      "execution_count": null,
      "outputs": []
    },
    {
      "cell_type": "code",
      "source": [
        "print(x_train)"
      ],
      "metadata": {
        "colab": {
          "base_uri": "https://localhost:8080/"
        },
        "id": "vHgva7cmyjV0",
        "outputId": "996165d2-9602-48f8-fcae-49b04b90db46"
      },
      "execution_count": null,
      "outputs": [
        {
          "output_type": "stream",
          "name": "stdout",
          "text": [
            "[['Informatika' 23.0 3.5]\n",
            " ['Fisika' 21.0 3.2]\n",
            " ['Matematika' 18.0 2.6]\n",
            " ['Matematika' 24.0 3.3]\n",
            " ['Matematika' 19.0 2.8]\n",
            " ['Informatika' 19.0 3.1]\n",
            " ['Informatika' 20.0 3.7]\n",
            " ['Fisika' nan 3.2]]\n"
          ]
        }
      ]
    },
    {
      "cell_type": "code",
      "source": [
        "print(x_test)"
      ],
      "metadata": {
        "colab": {
          "base_uri": "https://localhost:8080/"
        },
        "id": "OphWPsQ6ypTT",
        "outputId": "b86703c3-4e3d-4e77-ff23-b54a0555611c"
      },
      "execution_count": null,
      "outputs": [
        {
          "output_type": "stream",
          "name": "stdout",
          "text": [
            "[['Fisika' 20.0 nan]\n",
            " ['Informatika' 20.0 3.5]]\n"
          ]
        }
      ]
    },
    {
      "cell_type": "code",
      "source": [
        "from sklearn.impute import SimpleImputer\n",
        "imputer = SimpleImputer(missing_values=np.nan, strategy='mean')\n",
        "imputer.fit(x[:, 1:3])\n",
        "x[:, 1:3] = imputer.transform(x[:, 1:3])"
      ],
      "metadata": {
        "id": "_Usxqodsysgi"
      },
      "execution_count": null,
      "outputs": []
    },
    {
      "cell_type": "code",
      "source": [
        "print(x)"
      ],
      "metadata": {
        "colab": {
          "base_uri": "https://localhost:8080/"
        },
        "id": "WwOH9Zysyxyq",
        "outputId": "26a69ea0-92f6-40c7-e5e2-8433709a8a2c"
      },
      "execution_count": null,
      "outputs": [
        {
          "output_type": "stream",
          "name": "stdout",
          "text": [
            "[['Informatika' 20.0 3.7]\n",
            " ['Matematika' 18.0 2.6]\n",
            " ['Fisika' 20.0 3.2111111111111112]\n",
            " ['Informatika' 19.0 3.1]\n",
            " ['Informatika' 23.0 3.5]\n",
            " ['Fisika' 20.444444444444443 3.2]\n",
            " ['Matematika' 24.0 3.3]\n",
            " ['Matematika' 19.0 2.8]\n",
            " ['Informatika' 20.0 3.5]\n",
            " ['Fisika' 21.0 3.2]]\n"
          ]
        }
      ]
    },
    {
      "cell_type": "code",
      "source": [
        "from sklearn.compose import ColumnTransformer\n",
        "from sklearn.preprocessing import OneHotEncoder\n",
        "ct = ColumnTransformer(transformers=[('encoder', OneHotEncoder(), [0])], remainder='passthrough')\n",
        "x = np.array(ct.fit_transform(x))"
      ],
      "metadata": {
        "id": "5O6tqvVGy12W"
      },
      "execution_count": null,
      "outputs": []
    },
    {
      "cell_type": "code",
      "source": [
        "print(x)"
      ],
      "metadata": {
        "colab": {
          "base_uri": "https://localhost:8080/"
        },
        "id": "-jraHMgdzBxa",
        "outputId": "277bb041-a57c-426c-e914-30a5841005f2"
      },
      "execution_count": null,
      "outputs": [
        {
          "output_type": "stream",
          "name": "stdout",
          "text": [
            "[[0.0 1.0 0.0 20.0 3.7]\n",
            " [0.0 0.0 1.0 18.0 2.6]\n",
            " [1.0 0.0 0.0 20.0 3.2111111111111112]\n",
            " [0.0 1.0 0.0 19.0 3.1]\n",
            " [0.0 1.0 0.0 23.0 3.5]\n",
            " [1.0 0.0 0.0 20.444444444444443 3.2]\n",
            " [0.0 0.0 1.0 24.0 3.3]\n",
            " [0.0 0.0 1.0 19.0 2.8]\n",
            " [0.0 1.0 0.0 20.0 3.5]\n",
            " [1.0 0.0 0.0 21.0 3.2]]\n"
          ]
        }
      ]
    },
    {
      "cell_type": "code",
      "source": [
        "from sklearn.preprocessing import LabelEncoder\n",
        "le = LabelEncoder()\n",
        "y = le.fit_transform(y)"
      ],
      "metadata": {
        "id": "dfeAGhwmzFwT"
      },
      "execution_count": null,
      "outputs": []
    },
    {
      "cell_type": "code",
      "source": [
        "print(y)"
      ],
      "metadata": {
        "colab": {
          "base_uri": "https://localhost:8080/"
        },
        "id": "brtMFFUUzJ6O",
        "outputId": "668da1c6-c3f2-4145-aa09-4a9ccd4a6898"
      },
      "execution_count": null,
      "outputs": [
        {
          "output_type": "stream",
          "name": "stdout",
          "text": [
            "[1 0 0 1 1 1 0 0 1 1]\n"
          ]
        }
      ]
    },
    {
      "cell_type": "code",
      "source": [
        "from sklearn.model_selection import train_test_split\n",
        "x_train, x_test, y_train, y_test = train_test_split(x, y, test_size = 0.2, random_state = 1)"
      ],
      "metadata": {
        "id": "XZabwvXvzNtK"
      },
      "execution_count": null,
      "outputs": []
    },
    {
      "cell_type": "code",
      "source": [
        "print(x_train)"
      ],
      "metadata": {
        "colab": {
          "base_uri": "https://localhost:8080/"
        },
        "id": "17EwSgxnzRKs",
        "outputId": "b6c79ad6-9a92-4b2e-b146-95d01492451a"
      },
      "execution_count": null,
      "outputs": [
        {
          "output_type": "stream",
          "name": "stdout",
          "text": [
            "[[0.0 0.0 1.0 24.0 3.3]\n",
            " [0.0 1.0 0.0 23.0 3.5]\n",
            " [0.0 1.0 0.0 20.0 3.7]\n",
            " [0.0 1.0 0.0 19.0 3.1]\n",
            " [0.0 0.0 1.0 18.0 2.6]\n",
            " [0.0 0.0 1.0 19.0 2.8]\n",
            " [0.0 1.0 0.0 20.0 3.5]\n",
            " [1.0 0.0 0.0 20.444444444444443 3.2]]\n"
          ]
        }
      ]
    },
    {
      "cell_type": "code",
      "source": [
        "print(x_test)"
      ],
      "metadata": {
        "colab": {
          "base_uri": "https://localhost:8080/"
        },
        "id": "5JcduiEfzWV1",
        "outputId": "5a30451e-a760-49b4-e3b8-2997190ceead"
      },
      "execution_count": null,
      "outputs": [
        {
          "output_type": "stream",
          "name": "stdout",
          "text": [
            "[[1.0 0.0 0.0 20.0 3.2111111111111112]\n",
            " [1.0 0.0 0.0 21.0 3.2]]\n"
          ]
        }
      ]
    },
    {
      "cell_type": "code",
      "source": [
        "print(y_train)"
      ],
      "metadata": {
        "colab": {
          "base_uri": "https://localhost:8080/"
        },
        "id": "M2_Vhxn1zZQ8",
        "outputId": "172fc9be-1130-4eae-a8ba-532a9350112e"
      },
      "execution_count": null,
      "outputs": [
        {
          "output_type": "stream",
          "name": "stdout",
          "text": [
            "[0 1 1 1 0 0 1 1]\n"
          ]
        }
      ]
    },
    {
      "cell_type": "code",
      "source": [
        "print(y_test)"
      ],
      "metadata": {
        "colab": {
          "base_uri": "https://localhost:8080/"
        },
        "id": "bom9mmh0zgsD",
        "outputId": "9c4a7d98-2f2c-49e6-adee-0eb75da5aabe"
      },
      "execution_count": null,
      "outputs": [
        {
          "output_type": "stream",
          "name": "stdout",
          "text": [
            "[0 1]\n"
          ]
        }
      ]
    },
    {
      "cell_type": "code",
      "source": [
        "from sklearn.preprocessing import StandardScaler\n",
        "sc = StandardScaler()\n",
        "x_train[:, 3:] = sc.fit_transform(x_train[:, 3:])\n",
        "x_test[:, 3:] = sc.transform(x_test[:,3:])"
      ],
      "metadata": {
        "id": "QHlxDRQgziTa"
      },
      "execution_count": null,
      "outputs": []
    },
    {
      "cell_type": "code",
      "source": [
        "print(x_train)"
      ],
      "metadata": {
        "colab": {
          "base_uri": "https://localhost:8080/"
        },
        "id": "E2HyoP5PzmKd",
        "outputId": "fa1b6cb2-57b6-4bc2-be06-ae07e96a2ef9"
      },
      "execution_count": null,
      "outputs": [
        {
          "output_type": "stream",
          "name": "stdout",
          "text": [
            "[[0.0 0.0 1.0 1.8520869081516291 0.25144742283748456]\n",
            " [0.0 1.0 0.0 1.333214311315375 0.8261843893231647]\n",
            " [0.0 1.0 0.0 -0.2234034791933881 1.400921355808845]\n",
            " [0.0 1.0 0.0 -0.7422760760296424 -0.3232895436481943]\n",
            " [0.0 0.0 1.0 -1.2611486728658967 -1.7601319598623935]\n",
            " [0.0 0.0 1.0 -0.7422760760296424 -1.1853949933767145]\n",
            " [0.0 1.0 0.0 -0.2234034791933881 0.8261843893231647]\n",
            " [1.0 0.0 0.0 0.007206563844946338 -0.03592106040535421]]\n"
          ]
        }
      ]
    },
    {
      "cell_type": "code",
      "source": [
        "print(x_test)"
      ],
      "metadata": {
        "colab": {
          "base_uri": "https://localhost:8080/"
        },
        "id": "jnABkRz3zrV1",
        "outputId": "12620479-7c94-4054-97e2-4442f6829be9"
      },
      "execution_count": null,
      "outputs": [
        {
          "output_type": "stream",
          "name": "stdout",
          "text": [
            "[[1.0 0.0 0.0 -0.2234034791933881 -0.0039912289339276786]\n",
            " [1.0 0.0 0.0 0.2954691176428662 -0.03592106040535421]]\n"
          ]
        }
      ]
    }
  ]
}